{
 "cells": [
  {
   "cell_type": "markdown",
   "metadata": {},
   "source": [
    "## D3 JavaScript visualisation in a Python Jupyter notebook"
   ]
  },
  {
   "cell_type": "markdown",
   "metadata": {},
   "source": [
    "### JavaScript in a Python Jupyter notebook cell"
   ]
  },
  {
   "cell_type": "code",
   "execution_count": null,
   "metadata": {},
   "outputs": [],
   "source": [
    "%%javascript\n",
    "console.log(\"I'm writing JavaScript\");"
   ]
  },
  {
   "cell_type": "markdown",
   "metadata": {},
   "source": [
    "Check Console in Developer Tools (instructions below), where you can see the result of JavaScript print statements. Ignore other messages already there relating to Jupyter functionality. \"I'm writing JavaScript\" should be printed at the bottom.\n",
    "\n",
    "**To access Console in Developer Tools:** \n",
    "\n",
    "From Chrome browser: View > Developer > JavaScript Console\n",
    "\n",
    "From Firefox browser: Tools > Web Developer > Web Console\n",
    "\n",
    "From Safari, first turn on the “Develop menu”: Safari > Preferences > Advanced. Select 'Show Develop menu in menu bar' and close Preferences. Then go Develop > Show JavaScript Console"
   ]
  },
  {
   "cell_type": "code",
   "execution_count": null,
   "metadata": {},
   "outputs": [],
   "source": [
    "from IPython.display import Javascript \n",
    "Javascript(\"\"\"\n",
    "console.log(\"I'm also writing JavaScript here\");\n",
    "\"\"\")\n",
    "# check Console in Developer Tools again"
   ]
  },
  {
   "cell_type": "markdown",
   "metadata": {},
   "source": [
    "### Importing D3"
   ]
  },
  {
   "cell_type": "code",
   "execution_count": null,
   "metadata": {},
   "outputs": [],
   "source": [
    "%%javascript\n",
    "require.config({\n",
    "    paths: { \n",
    "        d3: 'https://d3js.org/d3.v5.min'\n",
    "    }\n",
    "});"
   ]
  },
  {
   "cell_type": "code",
   "execution_count": null,
   "metadata": {},
   "outputs": [],
   "source": [
    "%%javascript\n",
    "require(['d3'], function(d3) {   \n",
    "    console.log(d3);\n",
    "});\n",
    "// Check Console in Developer tools again - you'll see an Object that is D3. \n",
    "// Depending on your browser it may just say 'Object' and you can use the small arrow \n",
    "// to unfurl it to see the D3 library contents,  \n",
    "// or it looks like '{event: null, format: ƒ, formatPrefix: ƒ, timeFormat: ƒ, timeParse: ƒ, …}'"
   ]
  },
  {
   "cell_type": "markdown",
   "metadata": {},
   "source": [
    "### Accessing the output cell"
   ]
  },
  {
   "cell_type": "markdown",
   "metadata": {},
   "source": [
    "Running JavaScript, you don’t automatically get anything appearing in the output cell. You can use 'element' (jQuery powered wrapper) to access the current output cell."
   ]
  },
  {
   "cell_type": "code",
   "execution_count": null,
   "metadata": {},
   "outputs": [],
   "source": [
    "%%javascript\n",
    "element.text('hello world');"
   ]
  },
  {
   "cell_type": "markdown",
   "metadata": {},
   "source": [
    "'element.get(0)' is the [DOM](https://www.w3schools.com/js/js_htmldom.asp) node for the output cell that can be handed to 'd3.select()'. Wrap this in a [closure](https://www.w3schools.com/js/js_function_closures.asp) to make sure you're accessing the correct output cell, as 'element' is a global variable and is overwritten when new cells are run"
   ]
  },
  {
   "cell_type": "code",
   "execution_count": null,
   "metadata": {},
   "outputs": [],
   "source": [
    "%%javascript\n",
    "(function(element) {\n",
    "    require(['d3'], function(d3) {   \n",
    "        d3.select(element.get(0)).append('text').text('hello world');\n",
    "    })\n",
    "})(element);"
   ]
  },
  {
   "cell_type": "code",
   "execution_count": null,
   "metadata": {},
   "outputs": [],
   "source": [
    "%%javascript\n",
    "(function(element) {\n",
    "    require(['d3'], function(d3) {   \n",
    "        d3.select(element.get(0)).append('svg')\n",
    "            .append('rect')\n",
    "            .attr('width', 50)\n",
    "            .attr('height', 50)\n",
    "            .attr('fill', 'black')\n",
    "            .on('mouseover', function(){d3.select(this).attr('fill', 'red')})\n",
    "            .on('mouseout', function(){d3.select(this).attr('fill', 'black')});\n",
    "    })\n",
    "})(element);\n",
    "\n",
    "// This rectangle is interactive - mouseover to see it turn red "
   ]
  },
  {
   "cell_type": "markdown",
   "metadata": {},
   "source": [
    "### Getting your data from Python into JavaScript"
   ]
  },
  {
   "cell_type": "code",
   "execution_count": null,
   "metadata": {},
   "outputs": [],
   "source": [
    "import json"
   ]
  },
  {
   "cell_type": "code",
   "execution_count": null,
   "metadata": {},
   "outputs": [],
   "source": [
    "data = [50, 100]"
   ]
  },
  {
   "cell_type": "markdown",
   "metadata": {},
   "source": [
    "Pass data into a JavaScript command"
   ]
  },
  {
   "cell_type": "code",
   "execution_count": null,
   "metadata": {},
   "outputs": [],
   "source": [
    "Javascript(\"\"\"\n",
    "element.text(%s);\n",
    "\"\"\" % json.dumps(data))\n",
    "\n",
    "# Triple quotes allows a multi-line string in Python\n",
    "# I'm using this Python string formatting method: \n",
    "# https://matthew-brett.github.io/teaching/string_formatting.html#option-3-old-school-formatting"
   ]
  },
  {
   "cell_type": "code",
   "execution_count": null,
   "metadata": {},
   "outputs": [],
   "source": [
    "Javascript(\"\"\"\n",
    "(function(element) {\n",
    "    require(['d3'], function(d3) {   \n",
    "        var data = %s;\n",
    "        d3.select(element.get(0)).append('svg')\n",
    "        .append('rect')\n",
    "        .attr('width', data[0])\n",
    "        .attr('height', data[1])\n",
    "        .attr('fill', 'black')\n",
    "    })\n",
    "})(element);\n",
    "\"\"\" % json.dumps(data))\n",
    "\n",
    "# This rectangle is 50 x 100, from our data"
   ]
  },
  {
   "cell_type": "code",
   "execution_count": null,
   "metadata": {},
   "outputs": [],
   "source": [
    "# Import pandas library \n",
    "import pandas as pd \n",
    "  \n",
    "# initialize list of lists \n",
    "data_python = [['A', 10], ['B', 15], ['C', 14]] \n",
    "  \n",
    "# Create the pandas DataFrame \n",
    "df = pd.DataFrame(data_python, columns = ['Name', 'Count']) \n",
    "  \n",
    "# print dataframe. \n",
    "df"
   ]
  },
  {
   "cell_type": "code",
   "execution_count": null,
   "metadata": {},
   "outputs": [],
   "source": [
    "#Save df as json\n",
    "df.to_json(r'df.json', orient=\"records\")"
   ]
  },
  {
   "cell_type": "code",
   "execution_count": null,
   "metadata": {},
   "outputs": [],
   "source": [
    "%%javascript\n",
    "(function(element) {\n",
    "    require(['d3'], function(d3) {   \n",
    "        // access df.json created by the cell above\n",
    "        d3.json(\"df.json\").then(function(json){\n",
    "            var df_data = json;            \n",
    "            var svg = d3.select(element.get(0)).append('svg');\n",
    "            df_data.forEach(function(d,i){\n",
    "                \n",
    "                // Create 3 text elements with the 'Name' values in df.json\n",
    "                svg.append('text')\n",
    "                    .text(function(){return d.Name})\n",
    "                    .attr('x', i*50)\n",
    "                    .attr('y', 10);\n",
    "                \n",
    "                // Create 3 rectangles with height mapped to the 'Count' values in df.json\n",
    "                svg.append('rect')\n",
    "                    .attr('width', 10)\n",
    "                    .attr('height', function(){ return d.Count * 5})\n",
    "                    .attr('x', i*50)\n",
    "                    .attr('y', 20)\n",
    "                    .attr('fill', 'black');\n",
    "            });\n",
    "        });\n",
    "    })\n",
    "})(element);"
   ]
  },
  {
   "cell_type": "markdown",
   "metadata": {},
   "source": [
    "### Creating the D3 visualisation from external files in a Jupyter cell"
   ]
  },
  {
   "cell_type": "code",
   "execution_count": null,
   "metadata": {},
   "outputs": [],
   "source": [
    "from IPython.display import HTML"
   ]
  },
  {
   "cell_type": "markdown",
   "metadata": {},
   "source": [
    "We will use 2 external code files from the same directory as this notebook: viz.js and viz.css.html. I've included their contents below for reference (leave the code commented out)."
   ]
  },
  {
   "cell_type": "code",
   "execution_count": null,
   "metadata": {},
   "outputs": [],
   "source": [
    "# CONTENTS OF viz.js\n",
    "# // Define a module, using RequireJS syntax, called 'viz'. \n",
    "# // 'viz' is defined as a function with argument 'container' (to append the SVG element to)\n",
    "# // 'viz' draws a 50 x 50 rectangle\n",
    "\n",
    "# define('viz', ['d3'], function (d3) {\n",
    "#     function draw(container) {\n",
    "#         d3.select(container).append(\"svg\").append('rect').attr('id', 'viz_rect').attr('width', 50).attr('height', 50);\n",
    "#     }\n",
    "#     return draw;\n",
    "# });\n",
    "# element.append('Loaded 😄 ');"
   ]
  },
  {
   "cell_type": "code",
   "execution_count": null,
   "metadata": {},
   "outputs": [],
   "source": [
    "# CONTENTS OF viz.css.html\n",
    "# <style>\n",
    "#     #viz_rect {\n",
    "#         fill: blue;\n",
    "#     }\n",
    "# </style>"
   ]
  },
  {
   "cell_type": "markdown",
   "metadata": {},
   "source": [
    "Load in viz.css.html and viz.js"
   ]
  },
  {
   "cell_type": "code",
   "execution_count": null,
   "metadata": {},
   "outputs": [],
   "source": [
    "display(HTML(filename=\"viz.css.html\"))\n",
    "Javascript(filename='viz.js')\n",
    "# You should see the message 'Loaded 😄' below from viz.js, \n",
    "# but you won't see any message from viz.css.html to indicate it's loaded"
   ]
  },
  {
   "cell_type": "markdown",
   "metadata": {},
   "source": [
    "(Using [RequireJS](https://requirejs.org/) syntax) we use the module 'viz', passing in the argument 'element.get(0)' to generate our D3 graphic."
   ]
  },
  {
   "cell_type": "code",
   "execution_count": null,
   "metadata": {},
   "outputs": [],
   "source": [
    "Javascript(\"\"\"\n",
    "(function(element){\n",
    "    require(['viz'], function(viz) {\n",
    "        viz(element.get(0))\n",
    "    });\n",
    "})(element);\n",
    "\"\"\")\n",
    "# the css styling in viz.css.html colours this rectangle blue"
   ]
  },
  {
   "cell_type": "markdown",
   "metadata": {},
   "source": [
    "### Passing variables across cells between Python and JavaScript"
   ]
  },
  {
   "cell_type": "markdown",
   "metadata": {},
   "source": [
    "#### Python to JavaScript"
   ]
  },
  {
   "cell_type": "code",
   "execution_count": null,
   "metadata": {},
   "outputs": [],
   "source": [
    "variable1 = \"this_could_be_any_python_string\"\n",
    "HTML(\"<div id='variable1' data-fromPython='\" + variable1 + \"' ></div>\")"
   ]
  },
  {
   "cell_type": "code",
   "execution_count": null,
   "metadata": {},
   "outputs": [],
   "source": [
    "%%javascript\n",
    "var fromPython = document.getElementById('variable1').getAttribute('data-fromPython');\n",
    "element.text(fromPython);"
   ]
  },
  {
   "cell_type": "markdown",
   "metadata": {},
   "source": [
    "This method works for Python objects that can be represented as a string and then re-interpreted back once they've been passed into JavaScript, for example a list."
   ]
  },
  {
   "cell_type": "markdown",
   "metadata": {},
   "source": [
    "#### JavaScript to Python"
   ]
  },
  {
   "cell_type": "code",
   "execution_count": null,
   "metadata": {},
   "outputs": [],
   "source": [
    "%%javascript\n",
    "var variable2 = \"this_could_be_any_javascript_string\";\n",
    "// command is a string containing Python code\n",
    "var command = \"fromJavaScript='\" + variable2 + \"'\";\n",
    "IPython.notebook.kernel.execute(command);"
   ]
  },
  {
   "cell_type": "code",
   "execution_count": null,
   "metadata": {},
   "outputs": [],
   "source": [
    "print(fromJavaScript)"
   ]
  },
  {
   "cell_type": "markdown",
   "metadata": {},
   "source": [
    "Similarly, this method works for JavaScript objects that can be represented as a string and then re-interpreted back once they've been passed into Python, for example an array."
   ]
  },
  {
   "cell_type": "code",
   "execution_count": null,
   "metadata": {},
   "outputs": [],
   "source": []
  }
 ],
 "metadata": {
  "kernelspec": {
   "display_name": "Python 3",
   "language": "python",
   "name": "python3"
  },
  "language_info": {
   "codemirror_mode": {
    "name": "ipython",
    "version": 3
   },
   "file_extension": ".py",
   "mimetype": "text/x-python",
   "name": "python",
   "nbconvert_exporter": "python",
   "pygments_lexer": "ipython3",
   "version": "3.6.10"
  }
 },
 "nbformat": 4,
 "nbformat_minor": 2
}
